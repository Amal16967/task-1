{
 "cells": [
  {
   "cell_type": "code",
   "execution_count": 21,
   "id": "14f83aa1-644f-418f-b84c-5979efa04cbc",
   "metadata": {},
   "outputs": [
    {
     "name": "stdout",
     "output_type": "stream",
     "text": [
      "it's a cold day stay warm\n"
     ]
    }
   ],
   "source": [
    "temp=20\n",
    "if temp>=30:\n",
    "    print(\"it's a hot day.stay hydrrated\")\n",
    "elif temp>20 and temp <29:\n",
    "    print (\"it's a warm day.stay hydrated\")\n",
    "elif temp >10 and temp < 19:\n",
    "    print(\"it's a cool day.wear a jacket\")\n",
    "else :\n",
    "    print (\"it's a cold day stay warm\")"
   ]
  }
 ],
 "metadata": {
  "kernelspec": {
   "display_name": "Python 3 (ipykernel)",
   "language": "python",
   "name": "python3"
  },
  "language_info": {
   "codemirror_mode": {
    "name": "ipython",
    "version": 3
   },
   "file_extension": ".py",
   "mimetype": "text/x-python",
   "name": "python",
   "nbconvert_exporter": "python",
   "pygments_lexer": "ipython3",
   "version": "3.13.5"
  }
 },
 "nbformat": 4,
 "nbformat_minor": 5
}
